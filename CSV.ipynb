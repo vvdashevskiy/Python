{
 "cells": [
  {
   "cell_type": "code",
   "execution_count": 2,
   "metadata": {},
   "outputs": [],
   "source": [
    "import pandas as pd"
   ]
  },
  {
   "cell_type": "code",
   "execution_count": 28,
   "metadata": {},
   "outputs": [],
   "source": [
    "csv_input = pd.read_csv('org_g_1.csv', sep=';', encoding='windows-1251')\n",
    "data = csv_input['Показатель'].str[7:].to_frame()\n",
    "\n",
    "for i in range(1, 25):\n",
    "    csv_input = pd.read_csv('org_g_{0}.csv'.format(i), sep=';', encoding='windows-1251')\n",
    "    data['{0}'.format(i)] = csv_input['Среднее по организации'].to_frame()\n",
    "\n",
    "data_t = data.T\n",
    "data.to_csv('org_g_combined.csv', index=False)\n",
    "data_t.to_csv('org_g_combined_t.csv', index=False)"
   ]
  },
  {
   "cell_type": "code",
   "execution_count": null,
   "metadata": {},
   "outputs": [],
   "source": []
  }
 ],
 "metadata": {
  "kernelspec": {
   "display_name": "Python 3",
   "language": "python",
   "name": "python3"
  },
  "language_info": {
   "codemirror_mode": {
    "name": "ipython",
    "version": 3
   },
   "file_extension": ".py",
   "mimetype": "text/x-python",
   "name": "python",
   "nbconvert_exporter": "python",
   "pygments_lexer": "ipython3",
   "version": "3.7.5"
  }
 },
 "nbformat": 4,
 "nbformat_minor": 2
}
